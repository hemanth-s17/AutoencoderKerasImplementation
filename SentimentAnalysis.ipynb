{
 "cells": [
  {
   "cell_type": "code",
   "execution_count": 2,
   "metadata": {},
   "outputs": [],
   "source": [
    "import numpy as np \n",
    "import os\n",
    "import re\n",
    "from nltk.corpus import stopwords\n",
    "import pandas as pd\n",
    "from keras.preprocessing.sequence import pad_sequences\n",
    "from keras.layers import Input, Embedding, LSTM, Bidirectional, Dense, GlobalMaxPool1D\n",
    "from keras.models import Model\n",
    "from nltk.stem import SnowballStemmer, WordNetLemmatizer\n",
    "from keras.preprocessing.text import Tokenizer"
   ]
  },
  {
   "cell_type": "code",
   "execution_count": 2,
   "metadata": {},
   "outputs": [],
   "source": [
    "maxLength = 100\n",
    "maxVocabNumber = 100000"
   ]
  },
  {
   "cell_type": "code",
   "execution_count": 3,
   "metadata": {},
   "outputs": [],
   "source": [
    "def cleanText(text, removeStopwords=True, performStemming=True):\n",
    "    \n",
    "    remove_special_char = re.compile('r[^a-z\\d]', re.IGNORECASE)\n",
    "    replace_numerics = re.compile(r'\\d+', re.IGNORECASE)\n",
    "    text = remove_special_char.sub('', text)\n",
    "    text = replace_numerics.sub('', text)\n",
    "\n",
    "    stop_words = set(stopwords.words('english')) \n",
    "    stemmer = SnowballStemmer('english')\n",
    "    lemmatizer = WordNetLemmatizer()\n",
    "    \n",
    "    text = text.lower().split()\n",
    "\n",
    "    \n",
    "    processedText = list()\n",
    "    for word in text:        \n",
    "        if removeStopwords:\n",
    "            if word in stop_words:\n",
    "                continue\n",
    "        if performStemming:\n",
    "            word = stemmer.stem(word)\n",
    "            \n",
    "        word = lemmatizer.lemmatize(word)\n",
    "        word = lemmatizer.lemmatize(word, 'v')\n",
    "            \n",
    "        processedText.append(word)\n",
    "\n",
    "    text = ' '.join(processedText)\n",
    "\n",
    "    return text\n"
   ]
  },
  {
   "cell_type": "code",
   "execution_count": 4,
   "metadata": {},
   "outputs": [],
   "source": [
    "imdb = pd.read_csv('IMDB Dataset.csv')\n",
    "X = [cleanText(text) for text in list(imdb['review'])]\n",
    "Y = [1 if sentiment=='positive' else 0 for sentiment in list(imdb['sentiment'])]"
   ]
  },
  {
   "cell_type": "code",
   "execution_count": 5,
   "metadata": {},
   "outputs": [],
   "source": [
    "tokenizer = Tokenizer(num_words=maxVocabNumber)\n",
    "tokenizer.fit_on_texts(X)"
   ]
  },
  {
   "cell_type": "code",
   "execution_count": 6,
   "metadata": {},
   "outputs": [],
   "source": [
    "X_tokenized = pad_sequences(tokenizer.texts_to_sequences(X), maxlen=maxLength)"
   ]
  },
  {
   "cell_type": "code",
   "execution_count": 7,
   "metadata": {},
   "outputs": [
    {
     "name": "stdout",
     "output_type": "stream",
     "text": [
      "WARNING:tensorflow:From /home/hemanth12/.local/lib/python3.7/site-packages/tensorflow/python/ops/nn_impl.py:180: add_dispatch_support.<locals>.wrapper (from tensorflow.python.ops.array_ops) is deprecated and will be removed in a future version.\n",
      "Instructions for updating:\n",
      "Use tf.where in 2.0, which has the same broadcast rule as np.where\n",
      "Model: \"model_1\"\n",
      "_________________________________________________________________\n",
      "Layer (type)                 Output Shape              Param #   \n",
      "=================================================================\n",
      "input_1 (InputLayer)         (None, 100)               0         \n",
      "_________________________________________________________________\n",
      "embedding_1 (Embedding)      (None, 100, 100)          10000000  \n",
      "_________________________________________________________________\n",
      "bidirectional_1 (Bidirection (None, 100, 120)          77280     \n",
      "_________________________________________________________________\n",
      "global_max_pooling1d_1 (Glob (None, 120)               0         \n",
      "_________________________________________________________________\n",
      "dense_1 (Dense)              (None, 60)                7260      \n",
      "_________________________________________________________________\n",
      "dense_2 (Dense)              (None, 1)                 61        \n",
      "=================================================================\n",
      "Total params: 10,084,601\n",
      "Trainable params: 10,084,601\n",
      "Non-trainable params: 0\n",
      "_________________________________________________________________\n",
      "None\n"
     ]
    }
   ],
   "source": [
    "inp = Input(shape=(maxLength,))\n",
    "embedding = Embedding(maxVocabNumber, 100)(inp)\n",
    "bilstm = Bidirectional(LSTM(60, return_sequences = True))(embedding)\n",
    "maxpool = GlobalMaxPool1D()(bilstm)\n",
    "out = Dense(60, activation='relu')(maxpool)\n",
    "out = Dense(1, activation='sigmoid')(out)\n",
    "model = Model(inputs=inp, outputs=out)\n",
    "model.compile(loss='binary_crossentropy', optimizer='adam', metrics=['accuracy'])\n",
    "print(model.summary())"
   ]
  },
  {
   "cell_type": "code",
   "execution_count": 8,
   "metadata": {},
   "outputs": [
    {
     "name": "stdout",
     "output_type": "stream",
     "text": [
      "WARNING:tensorflow:From /home/hemanth12/.local/lib/python3.7/site-packages/keras/backend/tensorflow_backend.py:422: The name tf.global_variables is deprecated. Please use tf.compat.v1.global_variables instead.\n",
      "\n",
      "Train on 25000 samples, validate on 25000 samples\n",
      "Epoch 1/4\n",
      "25000/25000 [==============================] - 77s 3ms/step - loss: 0.6674 - accuracy: 0.7223 - val_loss: 0.4844 - val_accuracy: 0.8182\n",
      "Epoch 2/4\n",
      "25000/25000 [==============================] - 83s 3ms/step - loss: 0.3758 - accuracy: 0.8518 - val_loss: 0.3357 - val_accuracy: 0.8620\n",
      "Epoch 3/4\n",
      "25000/25000 [==============================] - 95s 4ms/step - loss: 0.1838 - accuracy: 0.9333 - val_loss: 0.3289 - val_accuracy: 0.8702\n",
      "Epoch 4/4\n",
      "25000/25000 [==============================] - 77s 3ms/step - loss: 0.0846 - accuracy: 0.9750 - val_loss: 0.3719 - val_accuracy: 0.8670\n"
     ]
    }
   ],
   "source": [
    "batchSize = 1000\n",
    "epochs = 4\n",
    "hist = model.fit(X_tokenized, Y, batch_size=batchSize, epochs=epochs, verbose=1, shuffle=True, validation_split=0.5)"
   ]
  },
  {
   "cell_type": "code",
   "execution_count": 16,
   "metadata": {},
   "outputs": [
    {
     "name": "stdout",
     "output_type": "stream",
     "text": [
      "[[   0    0    0    0    0    0    0    0    0    0    0    0    0    0\n",
      "     0    0    0    0    0    0    0    0    0    0    0    0    0    0\n",
      "     0    0    0    0    0    0    0    0    0    0    0    0    0    0\n",
      "     0    0    0    0    0    0    0    0    0    0    0    0    0    0\n",
      "     0    0    0    0    0    0    0    0    0    0    0    0    0    0\n",
      "     0    0    0    0    0    0    0    0    0    0    0    0    0    0\n",
      "     0    0    0    0    0    0    0    0 1265   19   79    9  251 1319\n",
      "    21  106]]\n"
     ]
    },
    {
     "data": {
      "text/plain": [
       "array([[0.28571203]], dtype=float32)"
      ]
     },
     "execution_count": 16,
     "metadata": {},
     "output_type": "execute_result"
    }
   ],
   "source": [
    "review = [\"This serial is really interesting and good but now it has lost its purpose and is very bad right now\"]\n",
    "review = [cleanText(text) for text in review]\n",
    "review = pad_sequences(tokenizer.texts_to_sequences(review),maxlen=maxLength)\n",
    "print(review)\n",
    "model.predict(review)"
   ]
  },
  {
   "cell_type": "code",
   "execution_count": 10,
   "metadata": {},
   "outputs": [
    {
     "name": "stdout",
     "output_type": "stream",
     "text": [
      "Saved model to disk\n"
     ]
    }
   ],
   "source": [
    "model.save(\"sentimentanalysis.h5\")\n",
    "print(\"Saved model to disk\")"
   ]
  },
  {
   "cell_type": "code",
   "execution_count": null,
   "metadata": {},
   "outputs": [],
   "source": []
  }
 ],
 "metadata": {
  "kernelspec": {
   "display_name": "Python 3",
   "language": "python",
   "name": "python3"
  },
  "language_info": {
   "codemirror_mode": {
    "name": "ipython",
    "version": 3
   },
   "file_extension": ".py",
   "mimetype": "text/x-python",
   "name": "python",
   "nbconvert_exporter": "python",
   "pygments_lexer": "ipython3",
   "version": "3.7.5"
  }
 },
 "nbformat": 4,
 "nbformat_minor": 4
}
